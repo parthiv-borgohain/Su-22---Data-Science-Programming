{
 "cells": [
  {
   "cell_type": "code",
   "execution_count": 1,
   "id": "c6f2c474",
   "metadata": {},
   "outputs": [],
   "source": [
    "import pandas as pd\n",
    "data= pd.read_csv('NYC_Restaurants.csv',dtype=str)"
   ]
  },
  {
   "cell_type": "markdown",
   "id": "14c9cfe5",
   "metadata": {},
   "source": [
    "# Question 1: Create a unique name for each restaurant"
   ]
  },
  {
   "cell_type": "code",
   "execution_count": 2,
   "id": "36b142ae",
   "metadata": {
    "collapsed": true
   },
   "outputs": [
    {
     "data": {
      "text/html": [
       "<div>\n",
       "<style scoped>\n",
       "    .dataframe tbody tr th:only-of-type {\n",
       "        vertical-align: middle;\n",
       "    }\n",
       "\n",
       "    .dataframe tbody tr th {\n",
       "        vertical-align: top;\n",
       "    }\n",
       "\n",
       "    .dataframe thead th {\n",
       "        text-align: right;\n",
       "    }\n",
       "</style>\n",
       "<table border=\"1\" class=\"dataframe\">\n",
       "  <thead>\n",
       "    <tr style=\"text-align: right;\">\n",
       "      <th></th>\n",
       "      <th>Unnamed: 0</th>\n",
       "      <th>CAMIS</th>\n",
       "      <th>DBA</th>\n",
       "      <th>BORO</th>\n",
       "      <th>BUILDING</th>\n",
       "      <th>STREET</th>\n",
       "      <th>ZIPCODE</th>\n",
       "      <th>PHONE</th>\n",
       "      <th>CUISINE DESCRIPTION</th>\n",
       "      <th>INSPECTION DATE</th>\n",
       "      <th>ACTION</th>\n",
       "      <th>VIOLATION CODE</th>\n",
       "      <th>VIOLATION DESCRIPTION</th>\n",
       "      <th>CRITICAL FLAG</th>\n",
       "      <th>SCORE</th>\n",
       "      <th>GRADE</th>\n",
       "      <th>GRADE DATE</th>\n",
       "      <th>RECORD DATE</th>\n",
       "      <th>INSPECTION TYPE</th>\n",
       "      <th>RESTAURANT</th>\n",
       "    </tr>\n",
       "  </thead>\n",
       "  <tbody>\n",
       "    <tr>\n",
       "      <th>0</th>\n",
       "      <td>0</td>\n",
       "      <td>30112340</td>\n",
       "      <td>WENDY'S</td>\n",
       "      <td>BROOKLYN</td>\n",
       "      <td>469</td>\n",
       "      <td>FLATBUSH AVENUE</td>\n",
       "      <td>11225</td>\n",
       "      <td>7182875005</td>\n",
       "      <td>Hamburgers</td>\n",
       "      <td>12/30/2014</td>\n",
       "      <td>Violations were cited in the following area(s).</td>\n",
       "      <td>06C</td>\n",
       "      <td>Food not protected from potential source of co...</td>\n",
       "      <td>Critical</td>\n",
       "      <td>8</td>\n",
       "      <td>A</td>\n",
       "      <td>12/30/2014</td>\n",
       "      <td>02/12/2015</td>\n",
       "      <td>Cycle Inspection / Re-inspection</td>\n",
       "      <td>WENDY'S 469 FLATBUSH AVENUE 11225 BROOKLYN</td>\n",
       "    </tr>\n",
       "    <tr>\n",
       "      <th>1</th>\n",
       "      <td>1</td>\n",
       "      <td>30112340</td>\n",
       "      <td>WENDY'S</td>\n",
       "      <td>BROOKLYN</td>\n",
       "      <td>469</td>\n",
       "      <td>FLATBUSH AVENUE</td>\n",
       "      <td>11225</td>\n",
       "      <td>7182875005</td>\n",
       "      <td>Hamburgers</td>\n",
       "      <td>12/30/2014</td>\n",
       "      <td>Violations were cited in the following area(s).</td>\n",
       "      <td>10F</td>\n",
       "      <td>Non-food contact surface improperly constructe...</td>\n",
       "      <td>Not Critical</td>\n",
       "      <td>8</td>\n",
       "      <td>A</td>\n",
       "      <td>12/30/2014</td>\n",
       "      <td>02/12/2015</td>\n",
       "      <td>Cycle Inspection / Re-inspection</td>\n",
       "      <td>WENDY'S 469 FLATBUSH AVENUE 11225 BROOKLYN</td>\n",
       "    </tr>\n",
       "    <tr>\n",
       "      <th>2</th>\n",
       "      <td>2</td>\n",
       "      <td>30112340</td>\n",
       "      <td>WENDY'S</td>\n",
       "      <td>BROOKLYN</td>\n",
       "      <td>469</td>\n",
       "      <td>FLATBUSH AVENUE</td>\n",
       "      <td>11225</td>\n",
       "      <td>7182875005</td>\n",
       "      <td>Hamburgers</td>\n",
       "      <td>11/13/2014</td>\n",
       "      <td>Violations were cited in the following area(s).</td>\n",
       "      <td>04H</td>\n",
       "      <td>Raw, cooked or prepared food is adulterated, c...</td>\n",
       "      <td>Critical</td>\n",
       "      <td>16</td>\n",
       "      <td>NaN</td>\n",
       "      <td>NaN</td>\n",
       "      <td>02/12/2015</td>\n",
       "      <td>Cycle Inspection / Initial Inspection</td>\n",
       "      <td>WENDY'S 469 FLATBUSH AVENUE 11225 BROOKLYN</td>\n",
       "    </tr>\n",
       "    <tr>\n",
       "      <th>3</th>\n",
       "      <td>3</td>\n",
       "      <td>30112340</td>\n",
       "      <td>WENDY'S</td>\n",
       "      <td>BROOKLYN</td>\n",
       "      <td>469</td>\n",
       "      <td>FLATBUSH AVENUE</td>\n",
       "      <td>11225</td>\n",
       "      <td>7182875005</td>\n",
       "      <td>Hamburgers</td>\n",
       "      <td>11/13/2014</td>\n",
       "      <td>Violations were cited in the following area(s).</td>\n",
       "      <td>06A</td>\n",
       "      <td>Personal cleanliness inadequate. Outer garment...</td>\n",
       "      <td>Critical</td>\n",
       "      <td>16</td>\n",
       "      <td>NaN</td>\n",
       "      <td>NaN</td>\n",
       "      <td>02/12/2015</td>\n",
       "      <td>Cycle Inspection / Initial Inspection</td>\n",
       "      <td>WENDY'S 469 FLATBUSH AVENUE 11225 BROOKLYN</td>\n",
       "    </tr>\n",
       "    <tr>\n",
       "      <th>4</th>\n",
       "      <td>4</td>\n",
       "      <td>30112340</td>\n",
       "      <td>WENDY'S</td>\n",
       "      <td>BROOKLYN</td>\n",
       "      <td>469</td>\n",
       "      <td>FLATBUSH AVENUE</td>\n",
       "      <td>11225</td>\n",
       "      <td>7182875005</td>\n",
       "      <td>Hamburgers</td>\n",
       "      <td>11/13/2014</td>\n",
       "      <td>Violations were cited in the following area(s).</td>\n",
       "      <td>10F</td>\n",
       "      <td>Non-food contact surface improperly constructe...</td>\n",
       "      <td>Not Critical</td>\n",
       "      <td>16</td>\n",
       "      <td>NaN</td>\n",
       "      <td>NaN</td>\n",
       "      <td>02/12/2015</td>\n",
       "      <td>Cycle Inspection / Initial Inspection</td>\n",
       "      <td>WENDY'S 469 FLATBUSH AVENUE 11225 BROOKLYN</td>\n",
       "    </tr>\n",
       "  </tbody>\n",
       "</table>\n",
       "</div>"
      ],
      "text/plain": [
       "  Unnamed: 0     CAMIS      DBA      BORO BUILDING           STREET ZIPCODE  \\\n",
       "0          0  30112340  WENDY'S  BROOKLYN      469  FLATBUSH AVENUE   11225   \n",
       "1          1  30112340  WENDY'S  BROOKLYN      469  FLATBUSH AVENUE   11225   \n",
       "2          2  30112340  WENDY'S  BROOKLYN      469  FLATBUSH AVENUE   11225   \n",
       "3          3  30112340  WENDY'S  BROOKLYN      469  FLATBUSH AVENUE   11225   \n",
       "4          4  30112340  WENDY'S  BROOKLYN      469  FLATBUSH AVENUE   11225   \n",
       "\n",
       "        PHONE CUISINE DESCRIPTION INSPECTION DATE  \\\n",
       "0  7182875005          Hamburgers      12/30/2014   \n",
       "1  7182875005          Hamburgers      12/30/2014   \n",
       "2  7182875005          Hamburgers      11/13/2014   \n",
       "3  7182875005          Hamburgers      11/13/2014   \n",
       "4  7182875005          Hamburgers      11/13/2014   \n",
       "\n",
       "                                            ACTION VIOLATION CODE  \\\n",
       "0  Violations were cited in the following area(s).            06C   \n",
       "1  Violations were cited in the following area(s).            10F   \n",
       "2  Violations were cited in the following area(s).            04H   \n",
       "3  Violations were cited in the following area(s).            06A   \n",
       "4  Violations were cited in the following area(s).            10F   \n",
       "\n",
       "                               VIOLATION DESCRIPTION CRITICAL FLAG SCORE  \\\n",
       "0  Food not protected from potential source of co...      Critical     8   \n",
       "1  Non-food contact surface improperly constructe...  Not Critical     8   \n",
       "2  Raw, cooked or prepared food is adulterated, c...      Critical    16   \n",
       "3  Personal cleanliness inadequate. Outer garment...      Critical    16   \n",
       "4  Non-food contact surface improperly constructe...  Not Critical    16   \n",
       "\n",
       "  GRADE  GRADE DATE RECORD DATE                        INSPECTION TYPE  \\\n",
       "0     A  12/30/2014  02/12/2015       Cycle Inspection / Re-inspection   \n",
       "1     A  12/30/2014  02/12/2015       Cycle Inspection / Re-inspection   \n",
       "2   NaN         NaN  02/12/2015  Cycle Inspection / Initial Inspection   \n",
       "3   NaN         NaN  02/12/2015  Cycle Inspection / Initial Inspection   \n",
       "4   NaN         NaN  02/12/2015  Cycle Inspection / Initial Inspection   \n",
       "\n",
       "                                   RESTAURANT  \n",
       "0  WENDY'S 469 FLATBUSH AVENUE 11225 BROOKLYN  \n",
       "1  WENDY'S 469 FLATBUSH AVENUE 11225 BROOKLYN  \n",
       "2  WENDY'S 469 FLATBUSH AVENUE 11225 BROOKLYN  \n",
       "3  WENDY'S 469 FLATBUSH AVENUE 11225 BROOKLYN  \n",
       "4  WENDY'S 469 FLATBUSH AVENUE 11225 BROOKLYN  "
      ]
     },
     "execution_count": 2,
     "metadata": {},
     "output_type": "execute_result"
    }
   ],
   "source": [
    "data['RESTAURANT']= data['DBA'] + \" \" + data['BUILDING'] + \" \" + data['STREET']+ \" \" + data['ZIPCODE']+ \" \" + data['BORO'] \n",
    "data.head()"
   ]
  },
  {
   "cell_type": "markdown",
   "id": "ac1cd41f",
   "metadata": {},
   "source": [
    "# Question 2: How many restaurants are included in the data?"
   ]
  },
  {
   "cell_type": "code",
   "execution_count": 3,
   "id": "6efc255b",
   "metadata": {
    "collapsed": true
   },
   "outputs": [
    {
     "data": {
      "text/plain": [
       "10114"
      ]
     },
     "execution_count": 3,
     "metadata": {},
     "output_type": "execute_result"
    }
   ],
   "source": [
    "len(data['RESTAURANT'].value_counts())"
   ]
  },
  {
   "cell_type": "markdown",
   "id": "4234d424",
   "metadata": {},
   "source": [
    "# Question 3: How many chains are there?"
   ]
  },
  {
   "cell_type": "code",
   "execution_count": 4,
   "id": "c2c67497",
   "metadata": {
    "collapsed": true
   },
   "outputs": [
    {
     "data": {
      "text/plain": [
       "368"
      ]
     },
     "execution_count": 4,
     "metadata": {},
     "output_type": "execute_result"
    }
   ],
   "source": [
    "all_restaurants = data.drop_duplicates(subset=['RESTAURANT'])\n",
    "all_restaurants\n",
    "(all_restaurants['DBA'].value_counts()>1).sum()"
   ]
  },
  {
   "cell_type": "markdown",
   "id": "16caa8ff",
   "metadata": {},
   "source": [
    "# Question 4: Plot a bar graph of the top 20 most popular chains\n"
   ]
  },
  {
   "cell_type": "code",
   "execution_count": 5,
   "id": "f1dae10b",
   "metadata": {
    "collapsed": true
   },
   "outputs": [
    {
     "data": {
      "text/plain": [
       "<AxesSubplot:>"
      ]
     },
     "execution_count": 5,
     "metadata": {},
     "output_type": "execute_result"
    },
    {
     "data": {
      "image/png": "[encoded data removed]",
      "text/plain": [
       "<Figure size 432x288 with 1 Axes>"
      ]
     },
     "metadata": {
      "needs_background": "light"
     },
     "output_type": "display_data"
    }
   ],
   "source": [
    "all_restaurants['DBA'].value_counts()[:20].plot(kind='bar')"
   ]
  },
  {
   "cell_type": "markdown",
   "id": "cc18cfa4",
   "metadata": {},
   "source": [
    "# Question 5: What fraction of all restaurants are chain restaurants?"
   ]
  },
  {
   "cell_type": "code",
   "execution_count": 6,
   "id": "cb838b40",
   "metadata": {
    "collapsed": true
   },
   "outputs": [
    {
     "data": {
      "text/plain": [
       "0.16472216729286138"
      ]
     },
     "execution_count": 6,
     "metadata": {},
     "output_type": "execute_result"
    }
   ],
   "source": [
    "non_chain_restaurants_count=(all_restaurants['DBA'].value_counts() <= 1).sum()\n",
    "chain_restaurant_ratio=(len(all_restaurants)-non_chain_restaurants_count)/len(all_restaurants)\n",
    "chain_restaurant_ratio"
   ]
  },
  {
   "cell_type": "markdown",
   "id": "90be6c04",
   "metadata": {},
   "source": [
    "# Question 6: Plot the number of non-chain restaurants in each boro"
   ]
  },
  {
   "cell_type": "code",
   "execution_count": 7,
   "id": "8384d3b7",
   "metadata": {
    "collapsed": true
   },
   "outputs": [
    {
     "data": {
      "text/plain": [
       "<AxesSubplot:>"
      ]
     },
     "execution_count": 7,
     "metadata": {},
     "output_type": "execute_result"
    },
    {
     "data": {
      "image/png": "[encoded data removed]",
      "text/plain": [
       "<Figure size 432x288 with 1 Axes>"
      ]
     },
     "metadata": {
      "needs_background": "light"
     },
     "output_type": "display_data"
    }
   ],
   "source": [
    "all_restaurants_count=all_restaurants['DBA'].value_counts()\n",
    "non_chain_restaurants=all_restaurants_count[all_restaurants_count<=1]\n",
    "nonchain_DBA_list=non_chain_restaurants.index.values\n",
    "def restaurant_nonchain_or_not(x):\n",
    "    '''Takes a restaurant as input and returns whether it is a non-chain restaurant or not'''\n",
    "    return x in nonchain_DBA_list\n",
    "\n",
    "mask = all_restaurants['DBA'].map(restaurant_nonchain_or_not)\n",
    "all_restaurants[mask].drop(all_restaurants[mask][all_restaurants[mask]['BORO']==\"Missing\"].index)['BORO'].value_counts().plot(kind='bar')"
   ]
  },
  {
   "cell_type": "markdown",
   "id": "ddb3cff4",
   "metadata": {},
   "source": [
    "# Question 7: Plot the fraction of non-chain restaurants in each boro."
   ]
  },
  {
   "cell_type": "code",
   "execution_count": 8,
   "id": "8a3ffc5b",
   "metadata": {
    "collapsed": true
   },
   "outputs": [
    {
     "data": {
      "image/png": "[encoded data removed]",
      "text/plain": [
       "<Figure size 432x288 with 1 Axes>"
      ]
     },
     "metadata": {
      "needs_background": "light"
     },
     "output_type": "display_data"
    }
   ],
   "source": [
    "nonchain_restaurant_by_Boro=all_restaurants[mask].drop(all_restaurants[mask][all_restaurants[mask]['BORO']==\"Missing\"].index)['BORO'].value_counts()\n",
    "all_restaurant_by_Boro=all_restaurants.drop(all_restaurants[all_restaurants['BORO']==\"Missing\"].index)['BORO'].value_counts()\n",
    "fraction_nonchain_restaurant_by_boro=((nonchain_restaurant_by_Boro)/(all_restaurant_by_Boro)).sort_values(ascending=False).plot(kind='bar')"
   ]
  },
  {
   "cell_type": "markdown",
   "id": "5deae449",
   "metadata": {},
   "source": [
    "No, Manhattan does not have highest fraction of nonchain restaurant, infact Brooklyn has the highest fraction of the same"
   ]
  },
  {
   "cell_type": "markdown",
   "id": "117123ed",
   "metadata": {},
   "source": [
    "# Question 8: Plot the popularity of cuisines."
   ]
  },
  {
   "cell_type": "code",
   "execution_count": 9,
   "id": "8ba325f0",
   "metadata": {
    "collapsed": true
   },
   "outputs": [
    {
     "data": {
      "text/plain": [
       "<AxesSubplot:>"
      ]
     },
     "execution_count": 9,
     "metadata": {},
     "output_type": "execute_result"
    },
    {
     "data": {
      "image/png": "[encoded data removed]",
      "text/plain": [
       "<Figure size 432x288 with 1 Axes>"
      ]
     },
     "metadata": {
      "needs_background": "light"
     },
     "output_type": "display_data"
    }
   ],
   "source": [
    "all_restaurants['CUISINE DESCRIPTION'].value_counts()[:20].plot(kind='bar')"
   ]
  },
  {
   "cell_type": "markdown",
   "id": "975da6ee",
   "metadata": {},
   "source": [
    "# Question 9: Plot the cuisines among restaurants which never got cited for violations."
   ]
  },
  {
   "cell_type": "code",
   "execution_count": 10,
   "id": "b7453fe8",
   "metadata": {
    "collapsed": true
   },
   "outputs": [
    {
     "data": {
      "text/plain": [
       "<AxesSubplot:>"
      ]
     },
     "execution_count": 10,
     "metadata": {},
     "output_type": "execute_result"
    },
    {
     "data": {
      "image/png": "[encoded data removed]",
      "text/plain": [
       "<Figure size 432x288 with 1 Axes>"
      ]
     },
     "metadata": {
      "needs_background": "light"
     },
     "output_type": "display_data"
    }
   ],
   "source": [
    "#creating a new column RESTAURANT_CUISINE to take into consideration multiple cusines provided by same Restaurant\n",
    "data['RESTAURANT_CUISINE']=data['RESTAURANT']+' '+data['CUISINE DESCRIPTION']\n",
    "unique_restaurant_cuisine=data.drop_duplicates(subset=['RESTAURANT_CUISINE'])\n",
    "#len(unique_restaurant_cuisine) -> 10117(More than 10114 suggest cases of a single restaurant providing more than one cuisines)\n",
    "\n",
    "non_clean_restaurants=data[data['VIOLATION CODE'].notnull()].drop_duplicates(subset=['RESTAURANT_CUISINE'])\n",
    "non_clean_restaurant_list=list(non_clean_restaurants['RESTAURANT_CUISINE'])\n",
    "\n",
    "def restaurant_non_clean_or_not(x):\n",
    "    '''Takes in input a restaurant and returns whether it is a non-clean restaurant or not'''\n",
    "    return x not in non_clean_restaurant_list\n",
    "\n",
    "clean_restaurants_list=data[data['VIOLATION CODE'].isnull() & (data['RESTAURANT_CUISINE'].map(restaurant_non_clean_or_not))].drop_duplicates(subset=['RESTAURANT_CUISINE'])\n",
    "clean_restaurants_list['CUISINE DESCRIPTION'].value_counts()[:20].plot(kind='bar')\n"
   ]
  },
  {
   "cell_type": "markdown",
   "id": "59dcff91",
   "metadata": {},
   "source": [
    "# Question 10: What cuisines tend to be the “cleanest”?"
   ]
  },
  {
   "cell_type": "code",
   "execution_count": 11,
   "id": "f742b24b",
   "metadata": {
    "collapsed": true
   },
   "outputs": [
    {
     "name": "stdout",
     "output_type": "stream",
     "text": [
      "Soul Food                        0.090909\n",
      "Vietnamese/Cambodian/Malaysia    0.062500\n",
      "Other                            0.058252\n",
      "Continental                      0.047619\n",
      "Soups & Sandwiches               0.047619\n",
      "Barbecue                         0.047619\n",
      "Asian                            0.041096\n",
      "Chinese                          0.038251\n",
      "Greek                            0.036364\n",
      "Peruvian                         0.035714\n",
      "dtype: float64\n"
     ]
    }
   ],
   "source": [
    "cuisine_popularity=unique_restaurant_cuisine['CUISINE DESCRIPTION'].value_counts()\n",
    "cuisines_list=pd.Series(cuisine_popularity[cuisine_popularity>=20].index.values) #filter cuisines with atleast 20 restaurants\n",
    "cuisines_list.index=cuisines_list\n",
    "\n",
    "clean_restaurants_list_count=clean_restaurants_list['CUISINE DESCRIPTION'].value_counts()\n",
    "cuisine_popularity=unique_restaurant_cuisine['CUISINE DESCRIPTION'].value_counts()\n",
    "\n",
    "def get_ratio(x):\n",
    "    '''Takes a cuisine as input and calculates Q9/Q8: The ratio of restaurants that never got cited, versus total number\n",
    "of restaurants, serving that cuisine'''\n",
    "    if x in clean_restaurants_list['CUISINE DESCRIPTION'].value_counts().index.values:\n",
    "        q9=clean_restaurants_list_count[x]\n",
    "    else:\n",
    "        q9=0\n",
    "    q8=cuisine_popularity[x]\n",
    "    ratio=q9/q8\n",
    "    \n",
    "    return ratio\n",
    "\n",
    "top_10_cuisine_highestratios=cuisines_list.map(get_ratio).sort_values(ascending=False)[:10]\n",
    "print(top_10_cuisine_highestratios)"
   ]
  },
  {
   "cell_type": "markdown",
   "id": "421bbe1b",
   "metadata": {},
   "source": [
    "# Question 11: What are the most common violations in each borough?"
   ]
  },
  {
   "cell_type": "code",
   "execution_count": 12,
   "id": "825b2302",
   "metadata": {
    "collapsed": true
   },
   "outputs": [
    {
     "data": {
      "text/plain": [
       "BORO\n",
       "BRONX            Non-food contact surface improperly constructe...\n",
       "BROOKLYN         Non-food contact surface improperly constructe...\n",
       "MANHATTAN        Non-food contact surface improperly constructe...\n",
       "QUEENS           Non-food contact surface improperly constructe...\n",
       "STATEN ISLAND    Non-food contact surface improperly constructe...\n",
       "dtype: object"
      ]
     },
     "execution_count": 12,
     "metadata": {},
     "output_type": "execute_result"
    }
   ],
   "source": [
    "violation_across_boros=pd.crosstab(data['VIOLATION DESCRIPTION'],data['BORO'])\n",
    "volume_of_violations=violation_across_boros.drop(['Missing'],axis=1)\n",
    "volume_of_violations.idxmax()"
   ]
  },
  {
   "cell_type": "markdown",
   "id": "f6d85e60",
   "metadata": {},
   "source": [
    "# Question 12: What are the most common violations per borough, after normalizing for the relative abundance of each violation?"
   ]
  },
  {
   "cell_type": "code",
   "execution_count": 13,
   "id": "629b59a0",
   "metadata": {
    "collapsed": true
   },
   "outputs": [
    {
     "data": {
      "text/html": [
       "<div>\n",
       "<style scoped>\n",
       "    .dataframe tbody tr th:only-of-type {\n",
       "        vertical-align: middle;\n",
       "    }\n",
       "\n",
       "    .dataframe tbody tr th {\n",
       "        vertical-align: top;\n",
       "    }\n",
       "\n",
       "    .dataframe thead th {\n",
       "        text-align: right;\n",
       "    }\n",
       "</style>\n",
       "<table border=\"1\" class=\"dataframe\">\n",
       "  <thead>\n",
       "    <tr style=\"text-align: right;\">\n",
       "      <th></th>\n",
       "      <th>BORO</th>\n",
       "      <th>VIOLATION DESCRIPTION</th>\n",
       "      <th>Maximum Normalized Fraction</th>\n",
       "    </tr>\n",
       "  </thead>\n",
       "  <tbody>\n",
       "    <tr>\n",
       "      <th>0</th>\n",
       "      <td>BRONX</td>\n",
       "      <td>Unprotected food re-served.</td>\n",
       "      <td>0.500000</td>\n",
       "    </tr>\n",
       "    <tr>\n",
       "      <th>1</th>\n",
       "      <td>BROOKLYN</td>\n",
       "      <td>Precooked potentially hazardous food from comm...</td>\n",
       "      <td>0.714286</td>\n",
       "    </tr>\n",
       "    <tr>\n",
       "      <th>2</th>\n",
       "      <td>MANHATTAN</td>\n",
       "      <td>Out-of package sale of tobacco products observed.</td>\n",
       "      <td>1.000000</td>\n",
       "    </tr>\n",
       "    <tr>\n",
       "      <th>3</th>\n",
       "      <td>MANHATTAN</td>\n",
       "      <td>Potable water supply inadequate. Water or ice ...</td>\n",
       "      <td>1.000000</td>\n",
       "    </tr>\n",
       "    <tr>\n",
       "      <th>4</th>\n",
       "      <td>QUEENS</td>\n",
       "      <td>Caloric content range (minimum to maximum) not...</td>\n",
       "      <td>1.000000</td>\n",
       "    </tr>\n",
       "    <tr>\n",
       "      <th>5</th>\n",
       "      <td>QUEENS</td>\n",
       "      <td>Harmful, noxious gas or vapor detected. CO ~1 ...</td>\n",
       "      <td>1.000000</td>\n",
       "    </tr>\n",
       "    <tr>\n",
       "      <th>6</th>\n",
       "      <td>QUEENS</td>\n",
       "      <td>Raw food not properly washed prior to serving.</td>\n",
       "      <td>1.000000</td>\n",
       "    </tr>\n",
       "    <tr>\n",
       "      <th>7</th>\n",
       "      <td>STATEN ISLAND</td>\n",
       "      <td>Eggs found dirty/cracked; liquid, frozen or po...</td>\n",
       "      <td>0.090909</td>\n",
       "    </tr>\n",
       "  </tbody>\n",
       "</table>\n",
       "</div>"
      ],
      "text/plain": [
       "            BORO                              VIOLATION DESCRIPTION  \\\n",
       "0          BRONX                        Unprotected food re-served.   \n",
       "1       BROOKLYN  Precooked potentially hazardous food from comm...   \n",
       "2      MANHATTAN  Out-of package sale of tobacco products observed.   \n",
       "3      MANHATTAN  Potable water supply inadequate. Water or ice ...   \n",
       "4         QUEENS  Caloric content range (minimum to maximum) not...   \n",
       "5         QUEENS  Harmful, noxious gas or vapor detected. CO ~1 ...   \n",
       "6         QUEENS     Raw food not properly washed prior to serving.   \n",
       "7  STATEN ISLAND  Eggs found dirty/cracked; liquid, frozen or po...   \n",
       "\n",
       "   Maximum Normalized Fraction  \n",
       "0                     0.500000  \n",
       "1                     0.714286  \n",
       "2                     1.000000  \n",
       "3                     1.000000  \n",
       "4                     1.000000  \n",
       "5                     1.000000  \n",
       "6                     1.000000  \n",
       "7                     0.090909  "
      ]
     },
     "execution_count": 13,
     "metadata": {},
     "output_type": "execute_result"
    }
   ],
   "source": [
    "violation_across_boros['VIOLATIONFREQUENCY']=violation_across_boros.sum(axis=1)\n",
    "\n",
    "def Return_normalized_value(x):\n",
    "    '''Takes in input the number of violations for each Boro and returns the normalized value for that violation'''\n",
    "    return x/violation_across_boros['VIOLATIONFREQUENCY']\n",
    "\n",
    "#Get Normalized values for each boro for each violation\n",
    "normalized_violation_fractions= violation_across_boros.apply(Return_normalized_value)\n",
    "normalized_violation_fractions=normalized_violation_fractions.drop(['Missing'],axis=1)\n",
    "normalized_violation_fractions=normalized_violation_fractions.drop(['VIOLATIONFREQUENCY'],axis=1)\n",
    "\n",
    "#find maximum normalized fraction for each boro to detect if there are multiple highest fractions\n",
    "maximum_normalized_fraction = pd.DataFrame(normalized_violation_fractions.max(),columns = ['Maximum Normalized Fraction'])\n",
    "\n",
    "max_fractions_for_boros = pd.melt(normalized_violation_fractions.reset_index(), id_vars='VIOLATION DESCRIPTION', value_vars=list(normalized_violation_fractions.columns))\n",
    "\n",
    "#merge the maximum fractions table with the dataframe which contains all the fractions to get only the maximum fraction violations\n",
    "output_violations = pd.merge(maximum_normalized_fraction, max_fractions_for_boros, left_on=['BORO', 'Maximum Normalized Fraction'], right_on=['BORO', 'value'], how = 'left')\n",
    "output_violations=output_violations[['BORO','VIOLATION DESCRIPTION','Maximum Normalized Fraction']]\n",
    "output_violations\n"
   ]
  },
  {
   "cell_type": "markdown",
   "id": "c1a9724a",
   "metadata": {},
   "source": [
    "# Question 13: How many phone area codes correspond to a single zipcode?"
   ]
  },
  {
   "cell_type": "code",
   "execution_count": 14,
   "id": "f99b270f",
   "metadata": {
    "collapsed": true
   },
   "outputs": [
    {
     "name": "stdout",
     "output_type": "stream",
     "text": [
      "33\n"
     ]
    }
   ],
   "source": [
    "def getting_area_code(x):\n",
    "    '''Takes input phone number and returns the area code'''\n",
    "    return x[0:3]\n",
    "\n",
    "data['Area Code']=data['PHONE'].map(getting_area_code)\n",
    "\n",
    "#removing invalid phone numbers\n",
    "df_phone_no_notzero=data[data['PHONE']!=\"0000000000\"]\n",
    "df_phone_no_notzero_notblank=df_phone_no_notzero[df_phone_no_notzero['PHONE']!=\"__________\"]\n",
    "\n",
    "crosstab_areacode_zipcode=pd.crosstab(df_phone_no_notzero_notblank['Area Code'],df_phone_no_notzero_notblank['ZIPCODE'])\n",
    "\n",
    "def area_code_with_single_zip_code(x):\n",
    "    '''Takes input a areacode and returns if it has a single zipcode or not'''\n",
    "    if x.max()>0 and x.sum()-x.max()==0:\n",
    "        return True\n",
    "    else:\n",
    "        return False\n",
    "print(crosstab_areacode_zipcode.T.apply(area_code_with_single_zip_code).sum())"
   ]
  },
  {
   "cell_type": "markdown",
   "id": "58bf372d",
   "metadata": {},
   "source": [
    "# Question 14: Find common misspellings of street names\n"
   ]
  },
  {
   "cell_type": "code",
   "execution_count": 15,
   "id": "7e997025",
   "metadata": {
    "collapsed": true
   },
   "outputs": [
    {
     "data": {
      "text/plain": [
       "STREET TYPE_y\n",
       "AVE            AVENUE\n",
       "ST             STREET\n",
       "RD               ROAD\n",
       "PL              PLACE\n",
       "BOULEARD         BLVD\n",
       "BOULEARD    BOULEVARD\n",
       "BULEVARD         BLVD\n",
       "BULEVARD    BOULEVARD\n",
       "Name: STREET TYPE_x, dtype: object"
      ]
     },
     "execution_count": 15,
     "metadata": {},
     "output_type": "execute_result"
    }
   ],
   "source": [
    "def last_street_word(x):\n",
    "    '''Takes input a Street name and returns the last word'''\n",
    "    return x.split()[-1]\n",
    "\n",
    "def base_street(x):\n",
    "    '''Takes input a Street name and returns every word except the last word'''\n",
    "    return \" \".join(x.split()[:-1])\n",
    "\n",
    "#creating required columns\n",
    "data['STREET TYPE']=data['STREET'].map(last_street_word)\n",
    "data['STREET BASE']=data['STREET'].map(base_street)\n",
    "data['STREET BASE & ZIP']=data['STREET BASE'] +\" \"+ data['ZIPCODE']\n",
    "\n",
    "data_for_misspellings=data[['STREET TYPE','STREET BASE','STREET BASE & ZIP']]\n",
    "\n",
    "data_for_misspellings=data_for_misspellings.drop_duplicates()\n",
    "data_for_misspellings=data_for_misspellings[data_for_misspellings['STREET BASE'].notnull()==True]\n",
    "\n",
    "merged_for_misspellings=data_for_misspellings.merge(data_for_misspellings,\n",
    "                                                   left_on='STREET BASE & ZIP',\n",
    "                                                   right_on='STREET BASE & ZIP')\n",
    "\n",
    "merged_for_misspellings=merged_for_misspellings[merged_for_misspellings['STREET TYPE_x']!=merged_for_misspellings['STREET TYPE_y']]\n",
    "\n",
    "#find maximum misspellings for each street to detect if there are multiple misspells for each street name\n",
    "names_crosstab=pd.crosstab(merged_for_misspellings['STREET TYPE_x'],merged_for_misspellings['STREET TYPE_y'])\n",
    "maximum_misspells=pd.DataFrame(names_crosstab.max(),columns = ['Maximum Misspellings'])\n",
    "\n",
    "max_misspells_for_street = pd.melt(names_crosstab.reset_index(), id_vars='STREET TYPE_x', value_vars=list(names_crosstab.columns))\n",
    "output_misspells=pd.merge(maximum_misspells,max_misspells_for_street,left_on=['STREET TYPE_y','Maximum Misspellings'],right_on=['STREET TYPE_y','value'], how = 'left')\n",
    "output_misspells=output_misspells.set_index(\"STREET TYPE_y\")\n",
    "\n",
    "#get required street names\n",
    "output_misspells.loc[['AVE','ST','RD','PL','BOULEARD','BULEVARD']]['STREET TYPE_x']"
   ]
  }
 ],
 "metadata": {
  "kernelspec": {
   "display_name": "Python 3 (ipykernel)",
   "language": "python",
   "name": "python3"
  },
  "language_info": {
   "codemirror_mode": {
    "name": "ipython",
    "version": 3
   },
   "file_extension": ".py",
   "mimetype": "text/x-python",
   "name": "python",
   "nbconvert_exporter": "python",
   "pygments_lexer": "ipython3",
   "version": "3.9.12"
  }
 },
 "nbformat": 4,
 "nbformat_minor": 5
}
